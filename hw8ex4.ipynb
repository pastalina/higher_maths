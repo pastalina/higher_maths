{
  "nbformat": 4,
  "nbformat_minor": 0,
  "metadata": {
    "colab": {
      "name": "hw8ex4.ipynb",
      "provenance": [],
      "collapsed_sections": []
    },
    "kernelspec": {
      "name": "python3",
      "display_name": "Python 3"
    },
    "language_info": {
      "name": "python"
    }
  },
  "cells": [
    {
      "cell_type": "code",
      "metadata": {
        "colab": {
          "base_uri": "https://localhost:8080/"
        },
        "id": "rgtl6e-mkGmx",
        "outputId": "1f915355-82a0-4f83-dfc6-8da870a22995"
      },
      "source": [
        "import numpy as np\n",
        "import scipy\n",
        "import scipy.linalg\n",
        "\n",
        "A = np.array([[ 1, 2,  3],\n",
        "              [ 2, 16, 21],\n",
        "              [ 4, 28, 73]])\n",
        "P, L, U = scipy.linalg.lu(A)\n",
        "print(A)\n",
        "print(P)\n",
        "print(L)\n",
        "print(U)\n",
        "print(np.dot(np.dot(P, L), U))"
      ],
      "execution_count": 2,
      "outputs": [
        {
          "output_type": "stream",
          "text": [
            "[[ 1  2  3]\n",
            " [ 2 16 21]\n",
            " [ 4 28 73]]\n",
            "[[0. 1. 0.]\n",
            " [0. 0. 1.]\n",
            " [1. 0. 0.]]\n",
            "[[ 1.    0.    0.  ]\n",
            " [ 0.25  1.    0.  ]\n",
            " [ 0.5  -0.4   1.  ]]\n",
            "[[  4.    28.    73.  ]\n",
            " [  0.    -5.   -15.25]\n",
            " [  0.     0.   -21.6 ]]\n",
            "[[ 1.  2.  3.]\n",
            " [ 2. 16. 21.]\n",
            " [ 4. 28. 73.]]\n"
          ],
          "name": "stdout"
        }
      ]
    }
  ]
}