{
  "nbformat": 4,
  "nbformat_minor": 0,
  "metadata": {
    "colab": {
      "name": "hw7ex1_2.ipynb",
      "provenance": [],
      "collapsed_sections": []
    },
    "kernelspec": {
      "name": "python3",
      "display_name": "Python 3"
    },
    "language_info": {
      "name": "python"
    }
  },
  "cells": [
    {
      "cell_type": "code",
      "metadata": {
        "colab": {
          "base_uri": "https://localhost:8080/"
        },
        "id": "E9z1BrYkqmez",
        "outputId": "d823425f-c86f-4c14-96f6-95af93fbe21e"
      },
      "source": [
        "import numpy as np\n",
        "\n",
        "a = np.array([[1,2,3,4,5,6]], float)\n",
        "a2 = np.array([[7],[8],[9],[0],[-1],[12]], float)\n",
        "print(a)\n",
        "print(\"\")\n",
        "print(b)\n",
        "print(\"\\n\\n\")\n",
        "\n",
        "b = a * 2\n",
        "b2 = a2 * 2\n",
        "print(b)\n",
        "print(\"\")\n",
        "print(b2)\n",
        "print(\"\\n\\n\")\n",
        "\n",
        "c = a + 1\n",
        "c2 = a2 + 1\n",
        "print(c)\n",
        "print(\"\")\n",
        "print(c2)\n",
        "print(\"\\n\\n\")\n",
        "\n",
        "d = a + a2.T\n",
        "print(d)\n",
        "print(\"\\n\\n\")\n",
        "\n",
        "e = a - a2.T\n",
        "print(e)\n",
        "print(\"\\n\\n\")\n",
        "\n",
        "\n",
        "f = a.transpose()\n",
        "f2 = a2.transpose()\n",
        "print(f)\n",
        "print(\"\")\n",
        "print(f2)\n",
        "print(\"\\n\\n\")\n",
        "\n",
        "g = np.outer(a, a2)\n",
        "print(g)\n",
        "print(\"\\n\\n\")"
      ],
      "execution_count": 70,
      "outputs": [
        {
          "output_type": "stream",
          "text": [
            "[[1. 2. 3. 4. 5. 6.]]\n",
            "\n",
            "[[ 2.  4.  6.  8. 10. 12.]]\n",
            "\n",
            "\n",
            "\n",
            "[[ 2.  4.  6.  8. 10. 12.]]\n",
            "\n",
            "[[14.]\n",
            " [16.]\n",
            " [18.]\n",
            " [ 0.]\n",
            " [-2.]\n",
            " [24.]]\n",
            "\n",
            "\n",
            "\n",
            "[[2. 3. 4. 5. 6. 7.]]\n",
            "\n",
            "[[ 8.]\n",
            " [ 9.]\n",
            " [10.]\n",
            " [ 1.]\n",
            " [ 0.]\n",
            " [13.]]\n",
            "\n",
            "\n",
            "\n",
            "[[ 8. 10. 12.  4.  4. 18.]]\n",
            "\n",
            "\n",
            "\n",
            "[[-6. -6. -6.  4.  6. -6.]]\n",
            "\n",
            "\n",
            "\n",
            "[[1.]\n",
            " [2.]\n",
            " [3.]\n",
            " [4.]\n",
            " [5.]\n",
            " [6.]]\n",
            "\n",
            "[[ 7.  8.  9.  0. -1. 12.]]\n",
            "\n",
            "\n",
            "\n",
            "[[ 7.  8.  9.  0. -1. 12.]\n",
            " [14. 16. 18.  0. -2. 24.]\n",
            " [21. 24. 27.  0. -3. 36.]\n",
            " [28. 32. 36.  0. -4. 48.]\n",
            " [35. 40. 45.  0. -5. 60.]\n",
            " [42. 48. 54.  0. -6. 72.]]\n",
            "\n",
            "\n",
            "\n"
          ],
          "name": "stdout"
        }
      ]
    }
  ]
}