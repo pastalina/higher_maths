{
  "nbformat": 4,
  "nbformat_minor": 0,
  "metadata": {
    "colab": {
      "name": "hw7ex3.ipynb",
      "provenance": [],
      "collapsed_sections": []
    },
    "kernelspec": {
      "name": "python3",
      "display_name": "Python 3"
    },
    "language_info": {
      "name": "python"
    }
  },
  "cells": [
    {
      "cell_type": "code",
      "metadata": {
        "colab": {
          "base_uri": "https://localhost:8080/"
        },
        "id": "P6nIi_g5oXRJ",
        "outputId": "5af4e05d-dc32-4ac4-d971-bc9e1202dfd8"
      },
      "source": [
        "import numpy as np\n",
        "\n",
        "a = np.array([[1,2,3], [4,0,6], [7,8,9]])\n",
        "a2 = np.linalg.inv(a)\n",
        "print(a)\n",
        "print(\"\")\n",
        "print(a2)"
      ],
      "execution_count": 14,
      "outputs": [
        {
          "output_type": "stream",
          "text": [
            "[[1 2 3]\n",
            " [4 0 6]\n",
            " [7 8 9]]\n",
            "\n",
            "[[-0.8         0.1         0.2       ]\n",
            " [ 0.1        -0.2         0.1       ]\n",
            " [ 0.53333333  0.1        -0.13333333]]\n"
          ],
          "name": "stdout"
        }
      ]
    },
    {
      "cell_type": "code",
      "metadata": {
        "colab": {
          "base_uri": "https://localhost:8080/"
        },
        "id": "x1huCCaIrdEp",
        "outputId": "5635030f-b81c-40d6-955c-b4d0aa508224"
      },
      "source": [
        "import numpy as np\n",
        "\n",
        "a = np.array([[1,2,3,4], [3,6,9,12], [6,12,18,24], [0.5,1,1.5,2]])\n",
        "print(a)\n",
        "print(\"\")\n",
        "print(\"Ранг матрицы a:\", np.linalg.matrix_rank(a, 0.0001))"
      ],
      "execution_count": 13,
      "outputs": [
        {
          "output_type": "stream",
          "text": [
            "[[ 1.   2.   3.   4. ]\n",
            " [ 3.   6.   9.  12. ]\n",
            " [ 6.  12.  18.  24. ]\n",
            " [ 0.5  1.   1.5  2. ]]\n",
            "\n",
            "Ранг матрицы a: 1\n"
          ],
          "name": "stdout"
        }
      ]
    }
  ]
}