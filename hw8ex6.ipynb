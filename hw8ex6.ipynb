{
  "nbformat": 4,
  "nbformat_minor": 0,
  "metadata": {
    "colab": {
      "name": "hw8ex6.ipynb",
      "provenance": [],
      "collapsed_sections": []
    },
    "kernelspec": {
      "name": "python3",
      "display_name": "Python 3"
    },
    "language_info": {
      "name": "python"
    }
  },
  "cells": [
    {
      "cell_type": "code",
      "metadata": {
        "colab": {
          "base_uri": "https://localhost:8080/"
        },
        "id": "ZpcUO2JYBMAS",
        "outputId": "2641d036-8b67-4216-a723-d612a90afa9c"
      },
      "source": [
        "import numpy as np\n",
        "import matplotlib.pyplot as plt\n",
        "\n",
        "A = np.array([[1, 2, 3], [4, 5, 6], [7, 8, 9]])\n",
        "B = np.array([2, 5, 11])\n",
        "Q, R = np.linalg.qr(A)\n",
        "print(A)\n",
        "print(Q)\n",
        "print(R)"
      ],
      "execution_count": 26,
      "outputs": [
        {
          "output_type": "stream",
          "text": [
            "[[1 2 3]\n",
            " [4 5 6]\n",
            " [7 8 9]]\n",
            "[[-0.12309149  0.90453403  0.40824829]\n",
            " [-0.49236596  0.30151134 -0.81649658]\n",
            " [-0.86164044 -0.30151134  0.40824829]]\n",
            "[[-8.12403840e+00 -9.60113630e+00 -1.10782342e+01]\n",
            " [ 0.00000000e+00  9.04534034e-01  1.80906807e+00]\n",
            " [ 0.00000000e+00  0.00000000e+00 -7.58790979e-16]]\n"
          ],
          "name": "stdout"
        }
      ]
    },
    {
      "cell_type": "code",
      "metadata": {
        "colab": {
          "base_uri": "https://localhost:8080/"
        },
        "id": "qP3wdr-GGOov",
        "outputId": "82eae0ac-20f5-4678-9a9b-e9c066a1633d"
      },
      "source": [
        "print(np.dot(Q, R))\n",
        "print(np.dot(np.transpose(Q), Q))"
      ],
      "execution_count": 27,
      "outputs": [
        {
          "output_type": "stream",
          "text": [
            "[[1. 2. 3.]\n",
            " [4. 5. 6.]\n",
            " [7. 8. 9.]]\n",
            "[[ 1.00000000e+00 -2.48218629e-16 -2.62094065e-17]\n",
            " [-2.48218629e-16  1.00000000e+00  2.82872043e-17]\n",
            " [-2.62094065e-17  2.82872043e-17  1.00000000e+00]]\n"
          ],
          "name": "stdout"
        }
      ]
    },
    {
      "cell_type": "code",
      "metadata": {
        "colab": {
          "base_uri": "https://localhost:8080/"
        },
        "id": "mPHAsi47GRKC",
        "outputId": "77894724-8857-4622-ae3a-cfc96e1ef5f2"
      },
      "source": [
        "R1 = R[:2, :2]\n",
        "print(R1)"
      ],
      "execution_count": 28,
      "outputs": [
        {
          "output_type": "stream",
          "text": [
            "[[-8.1240384  -9.6011363 ]\n",
            " [ 0.          0.90453403]]\n"
          ],
          "name": "stdout"
        }
      ]
    },
    {
      "cell_type": "code",
      "metadata": {
        "colab": {
          "base_uri": "https://localhost:8080/"
        },
        "id": "GFWvVpe6Gib6",
        "outputId": "acb22577-be37-48a8-98af-16c872f67ca8"
      },
      "source": [
        "B1 = np.dot(np.transpose(Q), B)[:2]\n",
        "print(B1)"
      ],
      "execution_count": 29,
      "outputs": [
        {
          "output_type": "stream",
          "text": [
            "[-1.21860576e+01  3.33066907e-15]\n"
          ],
          "name": "stdout"
        }
      ]
    },
    {
      "cell_type": "code",
      "metadata": {
        "colab": {
          "base_uri": "https://localhost:8080/"
        },
        "id": "7xHOolOgHPeT",
        "outputId": "83de71dd-618d-483e-d0fb-b8bf96ade765"
      },
      "source": [
        "X1 = np.linalg.solve(R1, B1)\n",
        "print(X1)"
      ],
      "execution_count": 30,
      "outputs": [
        {
          "output_type": "stream",
          "text": [
            "[1.50000000e+00 3.68219321e-15]\n"
          ],
          "name": "stdout"
        }
      ]
    },
    {
      "cell_type": "code",
      "metadata": {
        "colab": {
          "base_uri": "https://localhost:8080/"
        },
        "id": "3Dh_OSn3HfKo",
        "outputId": "6d6948d9-e028-4ef2-b81d-50a876b0649d"
      },
      "source": [
        "X = np.append(X1, 0)\n",
        "print(X)\n",
        "np.linalg.norm(X)"
      ],
      "execution_count": 31,
      "outputs": [
        {
          "output_type": "stream",
          "text": [
            "[1.50000000e+00 3.68219321e-15 0.00000000e+00]\n"
          ],
          "name": "stdout"
        },
        {
          "output_type": "execute_result",
          "data": {
            "text/plain": [
              "1.499999999999996"
            ]
          },
          "metadata": {
            "tags": []
          },
          "execution_count": 31
        }
      ]
    },
    {
      "cell_type": "code",
      "metadata": {
        "colab": {
          "base_uri": "https://localhost:8080/"
        },
        "id": "1ZBGXjiDH2fu",
        "outputId": "0888191f-aa77-467d-c9a8-b7b6c0fd5248"
      },
      "source": [
        "np.linalg.norm(np.dot(A, X) - B)"
      ],
      "execution_count": 32,
      "outputs": [
        {
          "output_type": "execute_result",
          "data": {
            "text/plain": [
              "1.2247448713915892"
            ]
          },
          "metadata": {
            "tags": []
          },
          "execution_count": 32
        }
      ]
    },
    {
      "cell_type": "code",
      "metadata": {
        "colab": {
          "base_uri": "https://localhost:8080/"
        },
        "id": "r616ry2iKofZ",
        "outputId": "435c85d6-0fc4-4c4a-a12f-e2177b2c47d8"
      },
      "source": [
        "np.linalg.lstsq(A, B, rcond=None)"
      ],
      "execution_count": 34,
      "outputs": [
        {
          "output_type": "execute_result",
          "data": {
            "text/plain": [
              "(array([ 1.25,  0.5 , -0.25]),\n",
              " array([], dtype=float64),\n",
              " 2,\n",
              " array([1.68481034e+01, 1.06836951e+00, 3.33475287e-16]))"
            ]
          },
          "metadata": {
            "tags": []
          },
          "execution_count": 34
        }
      ]
    },
    {
      "cell_type": "code",
      "metadata": {
        "colab": {
          "base_uri": "https://localhost:8080/"
        },
        "id": "ggp_O8gWLCyY",
        "outputId": "a095ff78-4d0b-4f08-a08a-cf90f1aeb7ef"
      },
      "source": [
        "X = np.array([1.25, 0.5 , -0.25])\n",
        "np.linalg.norm(X), np.linalg.norm(np.dot(A, X) - B)"
      ],
      "execution_count": 35,
      "outputs": [
        {
          "output_type": "execute_result",
          "data": {
            "text/plain": [
              "(1.3693063937629153, 1.224744871391589)"
            ]
          },
          "metadata": {
            "tags": []
          },
          "execution_count": 35
        }
      ]
    }
  ]
}