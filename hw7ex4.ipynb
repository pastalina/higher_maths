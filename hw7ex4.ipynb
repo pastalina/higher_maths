{
  "nbformat": 4,
  "nbformat_minor": 0,
  "metadata": {
    "colab": {
      "name": "hw7ex4.ipynb",
      "provenance": [],
      "collapsed_sections": []
    },
    "kernelspec": {
      "name": "python3",
      "display_name": "Python 3"
    },
    "language_info": {
      "name": "python"
    }
  },
  "cells": [
    {
      "cell_type": "code",
      "metadata": {
        "colab": {
          "base_uri": "https://localhost:8080/"
        },
        "id": "Fd2sm60q52T8",
        "outputId": "e7280d39-587c-4676-e7d2-e91b36ac59c9"
      },
      "source": [
        "import numpy as np\n",
        "\n",
        "a = np.array([1, 5], float)\n",
        "b = np.array([2, 8], float)\n",
        "print(\"Скалярное произведение векторов a и b:\", np.inner(a, b))"
      ],
      "execution_count": 2,
      "outputs": [
        {
          "output_type": "stream",
          "text": [
            "Скалярное произведение векторов a и b: 42.0\n"
          ],
          "name": "stdout"
        }
      ]
    }
  ]
}