{
  "nbformat": 4,
  "nbformat_minor": 0,
  "metadata": {
    "colab": {
      "name": "hw7ex1_3.ipynb",
      "provenance": [],
      "collapsed_sections": []
    },
    "kernelspec": {
      "name": "python3",
      "display_name": "Python 3"
    },
    "language_info": {
      "name": "python"
    }
  },
  "cells": [
    {
      "cell_type": "code",
      "metadata": {
        "colab": {
          "base_uri": "https://localhost:8080/"
        },
        "id": "vfuKBHPkWFmu",
        "outputId": "ca4d962d-43ee-4122-f156-11fe722e1417"
      },
      "source": [
        "import numpy as np\n",
        "\n",
        "e = np.identity(5)\n",
        "print(e)\n",
        "print(\"\")\n",
        "s = 5*e\n",
        "print(s)\n",
        "print(\"\")\n",
        "s2 = np.linalg.inv(s)\n",
        "print(s2)"
      ],
      "execution_count": 4,
      "outputs": [
        {
          "output_type": "stream",
          "text": [
            "[[1. 0. 0. 0. 0.]\n",
            " [0. 1. 0. 0. 0.]\n",
            " [0. 0. 1. 0. 0.]\n",
            " [0. 0. 0. 1. 0.]\n",
            " [0. 0. 0. 0. 1.]]\n",
            "\n",
            "[[5. 0. 0. 0. 0.]\n",
            " [0. 5. 0. 0. 0.]\n",
            " [0. 0. 5. 0. 0.]\n",
            " [0. 0. 0. 5. 0.]\n",
            " [0. 0. 0. 0. 5.]]\n",
            "\n",
            "[[0.2 0.  0.  0.  0. ]\n",
            " [0.  0.2 0.  0.  0. ]\n",
            " [0.  0.  0.2 0.  0. ]\n",
            " [0.  0.  0.  0.2 0. ]\n",
            " [0.  0.  0.  0.  0.2]]\n"
          ],
          "name": "stdout"
        }
      ]
    }
  ]
}