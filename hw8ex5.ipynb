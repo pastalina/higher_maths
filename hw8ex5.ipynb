{
  "nbformat": 4,
  "nbformat_minor": 0,
  "metadata": {
    "colab": {
      "name": "hw8ex5.ipynb",
      "provenance": [],
      "collapsed_sections": []
    },
    "kernelspec": {
      "name": "python3",
      "display_name": "Python 3"
    },
    "language_info": {
      "name": "python"
    }
  },
  "cells": [
    {
      "cell_type": "code",
      "metadata": {
        "colab": {
          "base_uri": "https://localhost:8080/",
          "height": 351
        },
        "id": "GQqGyHXA2b1r",
        "outputId": "ba9c71c6-55bf-463b-80fc-c1502c0a6663"
      },
      "source": [
        "import numpy as np\n",
        "import matplotlib.pyplot as plt\n",
        "\n",
        "def Q(x, y, z):\n",
        "  return (x**2 + y**2 + z**2)\n",
        "\n",
        "x = np.linspace(-1, 5, 201)\n",
        "plt.ylim(0, 50)\n",
        "plt.plot(x, Q(x, 10 * x - 14, 21 * x - 29))\n",
        "plt.xlabel(\"x\")\n",
        "plt.ylabel(\"y\")\n",
        "plt.grid(True)\n",
        "plt.show()\n",
        "\n",
        "A = np.array([[1, 2, -1], [8, -5, 2]])\n",
        "B = np.array([1, 12])\n",
        "np.linalg.lstsq(A, B, rcond=None)"
      ],
      "execution_count": 14,
      "outputs": [
        {
          "output_type": "display_data",
          "data": {
            "image/png": "[encoded data removed]",
            "text/plain": [
              "<Figure size 432x288 with 1 Axes>"
            ]
          },
          "metadata": {
            "tags": [],
            "needs_background": "light"
          }
        },
        {
          "output_type": "execute_result",
          "data": {
            "text/plain": [
              "(array([ 1.38191882, -0.18081181,  0.0202952 ]),\n",
              " array([], dtype=float64),\n",
              " 2,\n",
              " array([9.65316119, 2.41173777]))"
            ]
          },
          "metadata": {
            "tags": []
          },
          "execution_count": 14
        }
      ]
    }
  ]
}