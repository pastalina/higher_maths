{
  "nbformat": 4,
  "nbformat_minor": 0,
  "metadata": {
    "colab": {
      "name": "hw8ex3.ipynb",
      "provenance": [],
      "collapsed_sections": []
    },
    "kernelspec": {
      "name": "python3",
      "display_name": "Python 3"
    },
    "language_info": {
      "name": "python"
    }
  },
  "cells": [
    {
      "cell_type": "code",
      "metadata": {
        "colab": {
          "base_uri": "https://localhost:8080/"
        },
        "id": "4GxNbTWFE4oX",
        "outputId": "688650a9-5e3c-41a7-9fcd-2bd896d173f1"
      },
      "source": [
        "import numpy as np\n",
        "\n",
        "A = np.array([[1,2,3], [4,0,6], [7,8,9]])\n",
        "B = np.array([[12,2,1]])\n",
        "C = np.concatenate((A, B.T), axis=1)\n",
        "print(C)\n",
        "print(\"\")\n",
        "np.linalg.matrix_rank(A, 0.0001), np.linalg.matrix_rank(C, 0.0001)"
      ],
      "execution_count": 39,
      "outputs": [
        {
          "output_type": "stream",
          "text": [
            "[[ 1  2  3 12]\n",
            " [ 4  0  6  2]\n",
            " [ 7  8  9  1]]\n",
            "\n"
          ],
          "name": "stdout"
        },
        {
          "output_type": "execute_result",
          "data": {
            "text/plain": [
              "(3, 3)"
            ]
          },
          "metadata": {
            "tags": []
          },
          "execution_count": 39
        }
      ]
    },
    {
      "cell_type": "code",
      "metadata": {
        "colab": {
          "base_uri": "https://localhost:8080/"
        },
        "id": "faTba5C0Po4X",
        "outputId": "de3daf5b-d2ad-4c0b-b843-9775ac6f869d"
      },
      "source": [
        "import numpy as np\n",
        "\n",
        "A = np.array([[1,2,3], [4,0,6], [7,8,9]])\n",
        "B = np.array([12,2,1])\n",
        "print(np.linalg.solve(A, B))\n",
        "print(\"\")\n",
        "np.linalg.lstsq(A, B, rcond=None)"
      ],
      "execution_count": 37,
      "outputs": [
        {
          "output_type": "stream",
          "text": [
            "[-9.2         0.9         6.46666667]\n",
            "\n"
          ],
          "name": "stdout"
        },
        {
          "output_type": "execute_result",
          "data": {
            "text/plain": [
              "(array([-9.2       ,  0.9       ,  6.46666667]),\n",
              " array([], dtype=float64),\n",
              " 3,\n",
              " array([15.63376871,  3.81768041,  1.00528221]))"
            ]
          },
          "metadata": {
            "tags": []
          },
          "execution_count": 37
        }
      ]
    }
  ]
}