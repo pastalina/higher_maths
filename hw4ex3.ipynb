{
  "nbformat": 4,
  "nbformat_minor": 0,
  "metadata": {
    "colab": {
      "name": "hw4ex3.ipynb",
      "provenance": [],
      "collapsed_sections": []
    },
    "kernelspec": {
      "name": "python3",
      "display_name": "Python 3"
    },
    "language_info": {
      "name": "python"
    }
  },
  "cells": [
    {
      "cell_type": "code",
      "metadata": {
        "colab": {
          "base_uri": "https://localhost:8080/"
        },
        "id": "yGOXn1guJKdu",
        "outputId": "e0ca2d97-7267-4523-f949-42512e73e15c"
      },
      "source": [
        "import numpy as np\n",
        "\n",
        "a = float(input(\"Введите расстояние между линиями a: \"))\n",
        "y = float(input(\"Введите координату конца иглы y: \"))\n",
        "alpha = float(input(\"Введите угол между иглой и линиями в радианах alpha: \"))\n",
        "b = float(input(\"Введите длину иглы b: \"))\n",
        "\n",
        "if (a - y % a) > b * np.sin(alpha):\n",
        "  print(\"Игла не пересекает линию\")\n",
        "else:\n",
        "  print(\"Игла пересекает линию\")\n"
      ],
      "execution_count": null,
      "outputs": [
        {
          "output_type": "stream",
          "text": [
            "Введите расстояние между линиями a: 5\n",
            "Введите координату конца иглы y: 7\n",
            "Введите угол между иглой и линиями в радианах alpha: 0.5236\n",
            "Введите длину иглы b: 5.9\n",
            "Игла не пересекает линию\n"
          ],
          "name": "stdout"
        }
      ]
    }
  ]
}