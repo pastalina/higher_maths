{
  "nbformat": 4,
  "nbformat_minor": 0,
  "metadata": {
    "colab": {
      "name": "hw5ex3.ipynb",
      "provenance": [],
      "collapsed_sections": []
    },
    "kernelspec": {
      "name": "python3",
      "display_name": "Python 3"
    },
    "language_info": {
      "name": "python"
    }
  },
  "cells": [
    {
      "cell_type": "code",
      "metadata": {
        "colab": {
          "base_uri": "https://localhost:8080/"
        },
        "id": "EZMjWfNBIzBZ",
        "outputId": "dd0c7ae9-3b3d-4011-d061-8f7717752f3f"
      },
      "source": [
        "import numpy as np\n",
        "import itertools\n",
        "import math\n",
        "\n",
        "k, n = 0, 10000\n",
        "a = np.random.randint(0, 2, n)\n",
        "b = np.random.randint(0, 2, n)\n",
        "c = np.random.randint(0, 2, n)\n",
        "d = np.random.randint(0, 2, n)\n",
        "x = a + b + c + d\n",
        "for i in range(0, n):\n",
        "  if x[i] == 2:\n",
        "    k += 1\n",
        "# print(a, b, c, d)\n",
        "# print(x)\n",
        "print(\"Вероятность выпадения 2 орлов и 2 решек в 4 испытаниях на практике:\", k/n)\n",
        "print(\"Вероятность выпадения 2 орлов и 2 решек в 4 испытаниях в теории:\", math.factorial(4)/(math.factorial(2)*math.factorial(2)*np.power(2, 4)))"
      ],
      "execution_count": 13,
      "outputs": [
        {
          "output_type": "stream",
          "text": [
            "Вероятность выпадения 2 орлов и 2 решек в 4 испытаниях на практике: 0.3799\n",
            "Вероятность выпадения 2 орлов и 2 решек в 4 испытаниях в теории: 0.375\n"
          ],
          "name": "stdout"
        }
      ]
    },
    {
      "cell_type": "code",
      "metadata": {
        "colab": {
          "base_uri": "https://localhost:8080/"
        },
        "id": "U34G9_PySea0",
        "outputId": "73d6c872-8ecc-484e-9a0f-f44067cec4cf"
      },
      "source": [
        "import numpy as np\n",
        "import itertools\n",
        "import math\n",
        "\n",
        "k, n = 0, 10000\n",
        "a = np.random.randint(0, 2, n)\n",
        "b = np.random.randint(0, 2, n)\n",
        "c = np.random.randint(0, 2, n)\n",
        "d = np.random.randint(0, 2, n)\n",
        "e = np.random.randint(0, 2, n)\n",
        "x = a + b + c + d + e\n",
        "for i in range(0, n):\n",
        "  if x[i] == 3:\n",
        "    k += 1\n",
        "# print(a, b, c, d)\n",
        "# print(x)\n",
        "print(\"Вероятность выпадения 3 орлов и 2 решек в 5 испытаниях на практике:\", k/n)\n",
        "print(\"Вероятность выпадения 3 орлов и 2 решек в 5 испытаниях в теории:\", math.factorial(5)/(math.factorial(3)*math.factorial(2)*np.power(2, 5)))"
      ],
      "execution_count": 14,
      "outputs": [
        {
          "output_type": "stream",
          "text": [
            "Вероятность выпадения 3 орлов и 2 решек в 5 испытаниях на практике: 0.3145\n",
            "Вероятность выпадения 3 орлов и 2 решек в 5 испытаниях в теории: 0.3125\n"
          ],
          "name": "stdout"
        }
      ]
    }
  ]
}