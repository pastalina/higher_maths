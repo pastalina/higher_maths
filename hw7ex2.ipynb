{
  "nbformat": 4,
  "nbformat_minor": 0,
  "metadata": {
    "colab": {
      "name": "hw7ex2.ipynb",
      "provenance": [],
      "collapsed_sections": []
    },
    "kernelspec": {
      "name": "python3",
      "display_name": "Python 3"
    },
    "language_info": {
      "name": "python"
    }
  },
  "cells": [
    {
      "cell_type": "code",
      "metadata": {
        "colab": {
          "base_uri": "https://localhost:8080/"
        },
        "id": "i7K_rUQ6Zmzw",
        "outputId": "e94c567b-cd58-47d5-88b8-15cdbf802764"
      },
      "source": [
        "import numpy as np\n",
        "\n",
        "a = np.array([[1,2,3], [4,0,6], [7,8,9]])\n",
        "print(a)\n",
        "print(np.linalg.det(a))"
      ],
      "execution_count": 1,
      "outputs": [
        {
          "output_type": "stream",
          "text": [
            "[[1 2 3]\n",
            " [4 0 6]\n",
            " [7 8 9]]\n",
            "59.999999999999986\n"
          ],
          "name": "stdout"
        }
      ]
    }
  ]
}