{
  "nbformat": 4,
  "nbformat_minor": 0,
  "metadata": {
    "colab": {
      "name": "hw8ex1.ipynb",
      "provenance": [],
      "collapsed_sections": []
    },
    "kernelspec": {
      "name": "python3",
      "display_name": "Python 3"
    },
    "language_info": {
      "name": "python"
    }
  },
  "cells": [
    {
      "cell_type": "code",
      "metadata": {
        "colab": {
          "base_uri": "https://localhost:8080/"
        },
        "id": "D0SHJpIaXp_H",
        "outputId": "7a0498f4-4073-4fbd-f02e-bb9ea0e2fd54"
      },
      "source": [
        "import numpy as np\n",
        "\n",
        "a = np.array([[1,2,3], [4,0,6], [7,8,9]], float)\n",
        "b = np.array([12,2,1], float)\n",
        "np.linalg.solve(a, b)"
      ],
      "execution_count": 2,
      "outputs": [
        {
          "output_type": "execute_result",
          "data": {
            "text/plain": [
              "array([-9.2       ,  0.9       ,  6.46666667])"
            ]
          },
          "metadata": {
            "tags": []
          },
          "execution_count": 2
        }
      ]
    }
  ]
}