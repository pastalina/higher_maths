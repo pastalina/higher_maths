{
  "nbformat": 4,
  "nbformat_minor": 0,
  "metadata": {
    "colab": {
      "name": "hw3.1ex1.ipynb",
      "provenance": [],
      "collapsed_sections": []
    },
    "kernelspec": {
      "name": "python3",
      "display_name": "Python 3"
    },
    "language_info": {
      "name": "python"
    }
  },
  "cells": [
    {
      "cell_type": "code",
      "metadata": {
        "id": "o9jTckXBqy85",
        "colab": {
          "base_uri": "https://localhost:8080/"
        },
        "outputId": "7ea22ac6-6297-49af-d14d-46538387e700"
      },
      "source": [
        "%matplotlib inline\n",
        "import numpy as np\n",
        "import matplotlib.pyplot as plt\n",
        "\n",
        "\n",
        "def sum_vector(a=(10,10,10), b=(0,0,-10)):\n",
        "  return a[0] + b[0], a[1] + b[1], a[2] + b[2]\n",
        "\n",
        "\n",
        "print(\"Сумма векторов a и b:\", sum_vector())\n",
        "\n",
        "\n",
        "def vector_length(x, y, z):\n",
        "  return round(np.sqrt(x ** 2 + y ** 2 + z ** 2), 3)\n",
        "\n",
        "\n",
        "print(\"Длина вектора: \", vector_length(2, -3, 5))"
      ],
      "execution_count": 1,
      "outputs": [
        {
          "output_type": "stream",
          "text": [
            "Сумма векторов a и b: (10, 10, 0)\n",
            "Длина вектора:  6.164\n"
          ],
          "name": "stdout"
        }
      ]
    }
  ]
}