{
  "nbformat": 4,
  "nbformat_minor": 0,
  "metadata": {
    "colab": {
      "name": "hw5ex1.ipynb",
      "provenance": [],
      "collapsed_sections": []
    },
    "kernelspec": {
      "name": "python3",
      "display_name": "Python 3"
    },
    "language_info": {
      "name": "python"
    }
  },
  "cells": [
    {
      "cell_type": "code",
      "metadata": {
        "colab": {
          "base_uri": "https://localhost:8080/"
        },
        "id": "zReEy1TgUm5J",
        "outputId": "71aacb86-bbaf-47e6-c64d-a0e79243a882"
      },
      "source": [
        "%matplotlib inline\n",
        "import numpy as np\n",
        "\n",
        "\n",
        "for i in range(0, 37):\n",
        "  a = input()\n",
        "  roulette = np.random.randint(0, 36)\n",
        "  blacks = (15, 4, 2, 17, 6, 13, 11, 8, 10, 24, 33, 20, 31, 22, 29, 28, 35, 26)\n",
        "  if roulette == 0:\n",
        "    print(\"zero\")\n",
        "  elif roulette in blacks:\n",
        "    print(roulette, \"black\")\n",
        "  else:\n",
        "    print(roulette, \"red\")"
      ],
      "execution_count": 2,
      "outputs": [
        {
          "output_type": "stream",
          "text": [
            "\n",
            "12 red\n",
            "\n",
            "8 black\n",
            "\n",
            "26 black\n",
            "\n",
            "13 black\n",
            "\n",
            "32 red\n",
            "\n",
            "24 black\n",
            "\n",
            "16 red\n",
            "\n",
            "21 red\n",
            "\n",
            "33 black\n",
            "\n",
            "12 red\n",
            "\n",
            "4 black\n",
            "\n",
            "10 black\n",
            "\n",
            "2 black\n",
            "\n",
            "35 black\n",
            "\n",
            "16 red\n",
            "\n",
            "1 red\n",
            "\n",
            "17 black\n",
            "\n",
            "27 red\n",
            "\n",
            "15 black\n",
            "\n",
            "23 red\n",
            "\n",
            "24 black\n",
            "\n",
            "12 red\n",
            "\n",
            "6 black\n",
            "\n",
            "11 black\n",
            "\n",
            "25 red\n",
            "\n",
            "25 red\n",
            "\n",
            "25 red\n",
            "\n",
            "7 red\n",
            "\n",
            "19 red\n",
            "\n",
            "13 black\n",
            "\n",
            "20 black\n",
            "\n",
            "31 black\n",
            "\n",
            "18 red\n",
            "\n",
            "31 black\n",
            "\n",
            "19 red\n",
            "\n",
            "31 black\n",
            "\n",
            "17 black\n"
          ],
          "name": "stdout"
        }
      ]
    }
  ]
}