{
  "nbformat": 4,
  "nbformat_minor": 0,
  "metadata": {
    "colab": {
      "name": "hw7ex5.ipynb",
      "provenance": [],
      "collapsed_sections": []
    },
    "kernelspec": {
      "name": "python3",
      "display_name": "Python 3"
    },
    "language_info": {
      "name": "python"
    }
  },
  "cells": [
    {
      "cell_type": "code",
      "metadata": {
        "colab": {
          "base_uri": "https://localhost:8080/"
        },
        "id": "zyk-tiK2_Zjg",
        "outputId": "13b043d9-f524-42e4-890c-de37a558f25f"
      },
      "source": [
        "import numpy as np\n",
        "\n",
        "a = np.array([1, 5, 0], float)\n",
        "b = np.array([2, 8, 7], float)\n",
        "c = np.array([7, 1.5, 3], float)\n",
        "v = np.cross(a, b)\n",
        "print(\"Смешанное произведение векторов a, b, c:\", np.inner(v, c))\n",
        "w = np.cross(b, c)\n",
        "print(\"Смешанное произведение векторов a, b, c:\", np.inner(a, w))"
      ],
      "execution_count": 2,
      "outputs": [
        {
          "output_type": "stream",
          "text": [
            "Смешанное произведение векторов a, b, c: 228.5\n",
            "Смешанное произведение векторов a, b, c: 228.5\n"
          ],
          "name": "stdout"
        }
      ]
    }
  ]
}