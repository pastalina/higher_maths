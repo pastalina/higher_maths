{
  "nbformat": 4,
  "nbformat_minor": 0,
  "metadata": {
    "colab": {
      "name": "hw5ex2.ipynb",
      "provenance": [],
      "collapsed_sections": []
    },
    "kernelspec": {
      "name": "python3",
      "display_name": "Python 3"
    },
    "language_info": {
      "name": "python"
    }
  },
  "cells": [
    {
      "cell_type": "code",
      "metadata": {
        "colab": {
          "base_uri": "https://localhost:8080/"
        },
        "id": "o84ehTQULhlU",
        "outputId": "ecc435e6-2540-4cf2-df12-b10790cab4af"
      },
      "source": [
        "%matplotlib inline\n",
        "import numpy as np\n",
        "\n",
        "\n",
        "k, m = 0, 0\n",
        "for i in range(0, 1000):\n",
        "  roulette = np.random.randint(0, 36)\n",
        "  blacks = (15, 4, 2, 17, 6, 13, 11, 8, 10, 24, 33, 20, 31, 22, 29, 28, 35, 26)\n",
        "  if roulette == 0:\n",
        "    # print(\"zero\")\n",
        "    pass\n",
        "  elif roulette in blacks:\n",
        "    # print(roulette, \"black\")\n",
        "    k += 1\n",
        "  else:\n",
        "    # print(roulette, \"red\")\n",
        "    m += 1\n",
        "print(k, m)\n",
        "print(f\"Вероятность выпадения черного или красного в теории: {round((18/37 + 18/37)*100, 2)}%\")\n",
        "print(f\"Вероятность выпадения черного или красного на практике: {round((k/1000 + m/1000)*100, 2)}%\")\n"
      ],
      "execution_count": 29,
      "outputs": [
        {
          "output_type": "stream",
          "text": [
            "528 443\n",
            "Вероятность выпадения черного или красного в теории: 97.3%\n",
            "Вероятность выпадения черного или красного на практике: 97.1%\n"
          ],
          "name": "stdout"
        }
      ]
    },
    {
      "cell_type": "code",
      "metadata": {
        "colab": {
          "base_uri": "https://localhost:8080/",
          "height": 499
        },
        "id": "hhpsqfT874vd",
        "outputId": "41b0102e-7485-4813-c4a2-07c1af02bf35"
      },
      "source": [
        "%matplotlib inline\n",
        "import numpy as np\n",
        "\n",
        "import matplotlib.pyplot as plt\n",
        "import matplotlib.mlab as mlab\n",
        "\n",
        "\n",
        "i = 0\n",
        "num_list_sum = []\n",
        "while i < 10:\n",
        "  n = 0\n",
        "  num_list = []\n",
        "  while n < 10:\n",
        "    x = np.random.randint(1, 1000)\n",
        "    num_list.append(x)\n",
        "    n += 1\n",
        "  print(num_list)\n",
        "  num_list_sum.append(sum(num_list))\n",
        "  i += 1\n",
        "print(num_list_sum)\n",
        "num_bins = 5\n",
        "i, bins, patches = plt.hist(num_list_sum, num_bins)\n",
        "plt.xlabel('sums')\n",
        "plt.ylabel('probability')\n",
        "plt.title(\"Histogram\")\n",
        "\n"
      ],
      "execution_count": 30,
      "outputs": [
        {
          "output_type": "stream",
          "text": [
            "[703, 809, 781, 472, 691, 96, 957, 725, 148, 39]\n",
            "[197, 938, 870, 969, 902, 727, 831, 756, 222, 372]\n",
            "[682, 696, 404, 248, 691, 252, 774, 97, 476, 540]\n",
            "[610, 269, 496, 893, 192, 983, 652, 574, 900, 316]\n",
            "[69, 873, 797, 719, 440, 958, 365, 44, 256, 580]\n",
            "[931, 237, 102, 226, 684, 833, 352, 13, 888, 265]\n",
            "[969, 473, 600, 362, 412, 374, 982, 909, 54, 906]\n",
            "[615, 745, 41, 901, 910, 150, 330, 768, 934, 172]\n",
            "[347, 414, 471, 733, 920, 200, 960, 162, 595, 151]\n",
            "[586, 350, 373, 34, 281, 78, 12, 953, 354, 829]\n",
            "[5421, 6784, 4860, 5885, 5101, 4531, 6041, 5566, 4953, 3850]\n"
          ],
          "name": "stdout"
        },
        {
          "output_type": "execute_result",
          "data": {
            "text/plain": [
              "Text(0.5, 1.0, 'Histogram')"
            ]
          },
          "metadata": {
            "tags": []
          },
          "execution_count": 30
        },
        {
          "output_type": "display_data",
          "data": {
            "image/png": "[encoded data removed]",
            "text/plain": [
              "<Figure size 432x288 with 1 Axes>"
            ]
          },
          "metadata": {
            "tags": [],
            "needs_background": "light"
          }
        }
      ]
    }
  ]
}